{
 "cells": [
  {
   "cell_type": "markdown",
   "id": "7411c87b",
   "metadata": {},
   "source": [
    "#### LETS BUILD A SIMPLE CALCULATOR USING ARITHMATIC OPERATORS & IF, ELIF, ELSE CONDITIONS:"
   ]
  },
  {
   "attachments": {
    "NEW%20ARITHMATIC.PNG": {
     "image/png": "[encoded data removed]"
    }
   },
   "cell_type": "markdown",
   "id": "f6aeb9b4",
   "metadata": {},
   "source": [
    "- ARITHMATIC OPERATORS :\n",
    "\n",
    "![NEW%20ARITHMATIC.PNG](attachment:NEW%20ARITHMATIC.PNG)"
   ]
  },
  {
   "cell_type": "code",
   "execution_count": null,
   "id": "1d1a2bdc",
   "metadata": {
    "scrolled": true
   },
   "outputs": [],
   "source": [
    "first_value  = int(input(\"FIRST VALUE = \"))           # HERE WE TAKE INPUT FROM USER AS A FIRST VALUE\n",
    "operators    = input(\"(+, -, *, /, %, **) = \")        # ANOTHER INPUT FROM USER AS A OPRATORS\n",
    "second_value = int(input(\"SECOND VALUE = \"))          # HERE IS ALSO WE TAKE INPUT AS A SECOND VALUE\n",
    "\n",
    "\n",
    "\n",
    "if operators == \"+\":\n",
    "    print(first_value + second_value)                 # FIRST WE PERFORM WITH ADDITION\n",
    "    \n",
    "    \n",
    "    \n",
    "elif operators == \"-\":\n",
    "    print(first_value - second_value)                 # HERE WE PERFORM SUBSTRACTION\n",
    "    \n",
    "    \n",
    "    \n",
    "elif operators == \"*\":\n",
    "    print(first_value * second_value)                 # WITH MULTIPLICATION\n",
    "    \n",
    "    \n",
    "    \n",
    "elif operators == \"/\":\n",
    "    print(first_value / second_value)                 # WITH DIVISION\n",
    "    \n",
    "    \n",
    "    \n",
    "elif operators == \"%\":\n",
    "    print(first_value % second_value)                 # WITH REMAINDER (MODULUS)\n",
    "    \n",
    "    \n",
    "    \n",
    "elif operators == \"**\":\n",
    "    print(first_value ** second_value)                # WITH POWER\n",
    "    \n",
    "    \n",
    "    \n",
    "else:\n",
    "    print(\"INVALID OPERATOR OR INVALID VALUE\")        # RETURN ERROR IF WE ENTER INVALID VALUES OR INVALID OPERATOR\n",
    "        "
   ]
  },
  {
   "cell_type": "code",
   "execution_count": null,
   "id": "be67c401",
   "metadata": {},
   "outputs": [],
   "source": []
  },
  {
   "cell_type": "code",
   "execution_count": null,
   "id": "5dbd48f0",
   "metadata": {},
   "outputs": [],
   "source": []
  }
 ],
 "metadata": {
  "kernelspec": {
   "display_name": "Python 3 (ipykernel)",
   "language": "python",
   "name": "python3"
  },
  "language_info": {
   "codemirror_mode": {
    "name": "ipython",
    "version": 3
   },
   "file_extension": ".py",
   "mimetype": "text/x-python",
   "name": "python",
   "nbconvert_exporter": "python",
   "pygments_lexer": "ipython3",
   "version": "3.9.12"
  }
 },
 "nbformat": 4,
 "nbformat_minor": 5
}
